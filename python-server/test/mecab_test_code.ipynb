{
 "cells": [
  {
   "cell_type": "code",
   "execution_count": 1,
   "metadata": {},
   "outputs": [],
   "source": [
    "#!pip install python-mecab-ko\n"
   ]
  },
  {
   "cell_type": "code",
   "execution_count": 1,
   "metadata": {},
   "outputs": [],
   "source": [
    "from krwordrank.word import KRWordRank\n",
    "from mecab import MeCab\n",
    "mecab = MeCab()"
   ]
  },
  {
   "cell_type": "code",
   "execution_count": 2,
   "metadata": {},
   "outputs": [],
   "source": [
    "# text = \"서울 지진 피해에 대한 데이터 분석을 위해서는 어떤 종류의 데이터를 사용해야 할지 먼저 생각해보아야 합니다. 예를 들어, 지진 발생 시간, 지진 규모, 지진 발생 지역, 피해 규모 등의 정보가 필요할 것입니다. 서울 지진 피해 분석 예시: 서울 지역에서 최근 몇 년간 발생한 지진 데이터를 수집하여 지진 발생 건수, 지진 규모, 지진 발생 지역 등의 정보를 파악할 수 있습니다. 이를 바탕으로 서울 지역에서 지진 발생이 가장 많은 지역, 지진 규모와 피해 규모 간의 상관 관계, 지진 발생 시간대 등을 분석할 수 있습니다. 또한, 특정 지역에서의 지진 발생 시 피해 규모가 어떻게 나타나는지 분석하여 지진 대비 대응 전략을 마련할 수 있습니다. 서울 지진에 대한 데이터는 국가지진정보센터에서 제공하는 '국내 지진 정보 시스템'에서 확인할 수 있습니다. 이 시스템에서는 지난 1년간의 국내 지진 정보를 확인할 수 있으며, 서울 지역에서 발생한 지진 정보도 포함되어 있습니다. 이를 바탕으로 데이터를 수집하고 분석할 수 있습니다.\"\n",
    "text = \"\"\"\n",
    "폐식용유나 생활 폐기물 등으로 만든 친환경 항공유를 연료로 사용하는 항공기가 국내에서 처음으로 시범 운항에 돌입합니다. 국토교통부와 산업통상자원부는 인천∼LA 노선을 운항하는 대한항공 화물기에 바이오항공유, SAF를 급유해 석 달간 시범 운항을 한다고 밝혔습니다. SAF는 '지속가능 항공유'라는 의미로, 기존 화석연료 기반 항공유보다 탄소 배출을 최대 80%까지 줄일 수 있고 기존 항공유와도 혼합해 사용할 수 있습니다. 오늘 첫 시범 운항에는 오후 5시 45분 인천국제공항에서 이륙하는 대한항공 KE207편이 투입됩니다. 우선 SAF를 2% 섞은 항공유를 급유해 한 달에 2차례씩 석 달간 모두 6차례 시범 운항을 합니다. 시범 운항에 사용하는 SAF는 대한항공과 바이오항공유 실증 추진 협약을 맺은 GS칼텍스가 공급합니다. GS칼텍스는 세계 최대 바이오연료 생산 기업인 핀란드 '네스테'사가 생산한 바이오항공유를 국내 최초로 공급받아 대한항공 화물기에 급유합니다. 이 제품은 미국재료시험협회 등 국제 품질 기준을 충족한 바 있습니다. ※ '당신의 제보가 뉴스가 됩니다' [카카오톡] YTN 검색해 채널 추가 [전화] 02-398-8585 [메일] social@ytn.co.kr\n",
    "\n",
    "\n",
    "\n",
    "\n",
    "\"\"\""
   ]
  },
  {
   "cell_type": "code",
   "execution_count": 3,
   "metadata": {},
   "outputs": [
    {
     "data": {
      "text/plain": [
       "'폐식용유 생활 폐기물 등 친환경 항공 유 연료 사용 항공기 국내 처음 시범 운항 돌입 국토 교통부 산업 통상 자원 부 인천 노선 운항 대한항공 화물기 바이오 항공 급유 달 간 시범 운항 지속 가능 항공 유 의미 기존 화석 연료 기반 항공 유 탄소 배출 최대 수 기존 항공 유와 혼합 사용 수 시범 운항 오후 시 분 인천 국제 공항 이륙 대한항공 편 투입 항공 유 급유 달 차례 달 간 차례 시범 운항 시범 운항 사용 대한항공 바이오 항공 유 실증 추진 협약 칼 텍스 공급 칼 텍스 세계 최대 바이오 연료 생산 기업 핀란드 네스 테 사 생산 바이오 항공 유 국내 최초 공급 항공 화물기 급유 제품 미국 재료 시험 협회 등 국제 품질 기준 충족 바 당신 제보 뉴스 카카오톡 검색 채널 추가 전화 메일'"
      ]
     },
     "execution_count": 3,
     "metadata": {},
     "output_type": "execute_result"
    }
   ],
   "source": [
    "result_text = ' '.join(mecab.nouns(text))\n",
    "\n",
    "result_text"
   ]
  },
  {
   "cell_type": "code",
   "execution_count": 6,
   "metadata": {},
   "outputs": [
    {
     "name": "stdout",
     "output_type": "stream",
     "text": [
      "      항공:\t2.6219\n",
      "     바이오:\t1.8499\n",
      "      운항:\t1.5989\n",
      "     화물기:\t1.1540\n",
      "      사용:\t1.1518\n",
      "      시범:\t1.1118\n",
      "      연료:\t0.9405\n",
      "      대한:\t0.8598\n",
      "      급유:\t0.8500\n",
      "      생산:\t0.7617\n",
      "      국제:\t0.6448\n",
      "      국내:\t0.4852\n",
      "      공급:\t0.4731\n",
      "      최대:\t0.4105\n",
      "      기존:\t0.4103\n",
      "      인천:\t0.3658\n",
      "      텍스:\t0.3265\n",
      "      차례:\t0.2590\n"
     ]
    }
   ],
   "source": [
    "# from krwordrank.word import KRWordRank\n",
    "min_count = 2   # 단어의 최소 출현 빈도수 (그래프 생성 시)\n",
    "max_length = 10 # 단어의 최대 길이\n",
    "wordrank_extractor = KRWordRank(min_count=min_count, max_length=max_length)\n",
    "beta = 0.90    # PageRank의 decaying factor beta\n",
    "max_iter = 20\n",
    "texts = [result_text]\n",
    "keywords, rank, graph = wordrank_extractor.extract(texts, beta, max_iter)\n",
    "for word, r in sorted(keywords.items(), key=lambda x:x[1], reverse=True):\n",
    "        print('%8s:\\t%.4f' % (word, r))\n",
    "# 2번 등장을 기준으로 하면 조금 달라진다."
   ]
  }
 ],
 "metadata": {
  "kernelspec": {
   "display_name": "Python 3",
   "language": "python",
   "name": "python3"
  },
  "language_info": {
   "codemirror_mode": {
    "name": "ipython",
    "version": 3
   },
   "file_extension": ".py",
   "mimetype": "text/x-python",
   "name": "python",
   "nbconvert_exporter": "python",
   "pygments_lexer": "ipython3",
   "version": "3.11.5"
  },
  "orig_nbformat": 4
 },
 "nbformat": 4,
 "nbformat_minor": 2
}
