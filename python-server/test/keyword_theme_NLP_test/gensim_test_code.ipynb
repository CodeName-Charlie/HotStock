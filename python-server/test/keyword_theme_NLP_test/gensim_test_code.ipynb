{
 "cells": [
  {
   "cell_type": "code",
   "execution_count": 1,
   "metadata": {},
   "outputs": [
    {
     "name": "stdout",
     "output_type": "stream",
     "text": [
      "Requirement already satisfied: gensim in c:\\users\\ssafy\\appdata\\local\\packages\\pythonsoftwarefoundation.python.3.11_qbz5n2kfra8p0\\localcache\\local-packages\\python311\\site-packages (4.3.2)\n",
      "Requirement already satisfied: numpy>=1.18.5 in c:\\users\\ssafy\\appdata\\local\\packages\\pythonsoftwarefoundation.python.3.11_qbz5n2kfra8p0\\localcache\\local-packages\\python311\\site-packages (from gensim) (1.25.2)\n",
      "Requirement already satisfied: scipy>=1.7.0 in c:\\users\\ssafy\\appdata\\local\\packages\\pythonsoftwarefoundation.python.3.11_qbz5n2kfra8p0\\localcache\\local-packages\\python311\\site-packages (from gensim) (1.11.2)\n",
      "Requirement already satisfied: smart-open>=1.8.1 in c:\\users\\ssafy\\appdata\\local\\packages\\pythonsoftwarefoundation.python.3.11_qbz5n2kfra8p0\\localcache\\local-packages\\python311\\site-packages (from gensim) (6.3.0)\n",
      "Name: gensim\n",
      "Version: 4.3.2\n",
      "Summary: Python framework for fast Vector Space Modelling\n",
      "Home-page: https://radimrehurek.com/gensim/\n",
      "Author: Radim Rehurek\n",
      "Author-email: me@radimrehurek.com\n",
      "License: LGPL-2.1-only\n",
      "Location: C:\\Users\\SSAFY\\AppData\\Local\\Packages\\PythonSoftwareFoundation.Python.3.11_qbz5n2kfra8p0\\LocalCache\\local-packages\\Python311\\site-packages\n",
      "Requires: numpy, scipy, smart-open\n",
      "Required-by: \n"
     ]
    }
   ],
   "source": [
    "# !pip install nltk\n",
    "!pip install gensim\n",
    "!pip show gensim"
   ]
  },
  {
   "cell_type": "code",
   "execution_count": 2,
   "metadata": {},
   "outputs": [],
   "source": [
    "from gensim.models import FastText"
   ]
  },
  {
   "cell_type": "code",
   "execution_count": 3,
   "metadata": {},
   "outputs": [
    {
     "name": "stderr",
     "output_type": "stream",
     "text": [
      "C:\\Users\\SSAFY\\AppData\\Local\\Temp\\ipykernel_23316\\745137095.py:1: DeprecationWarning: Call to deprecated `load_fasttext_format` (use load_facebook_vectors (to use pretrained embeddings) or load_facebook_model (to continue training with the loaded full model, more RAM) instead).\n",
      "  ko_model = FastText.load_fasttext_format('./model/ko/ko3/ko.bin')\n"
     ]
    }
   ],
   "source": [
    "ko_model = FastText.load_fasttext_format('./model/ko/ko3/ko.bin')"
   ]
  },
  {
   "cell_type": "code",
   "execution_count": 42,
   "metadata": {},
   "outputs": [
    {
     "name": "stdout",
     "output_type": "stream",
     "text": [
      "수사 : []\n",
      "단장 : []\n",
      "국방부 : []\n",
      "검찰 : ['보안주(물리)', '보안주(정보)']\n",
      "출석 : []\n",
      "스페인 : []\n",
      "마드리드 : ['스마트그리드(지능형전력망)', '스마트그리드(지능형전력망) LS', '마이크로바이옴', '마이크로바이옴 CJ', '마이데이터', '페라이트', '바이오시밀러(복제 바이오의약품)', '코로나19(혈장치료/혈장치료제) 블레이드', '스마트팩토리(스마트공장) LS', '마이크로 LED', '스마트팩토리(스마트공장)', '클라우드 컴퓨팅', '터치패널(스마트폰/태블릿PC 등)']\n",
      "근교 : []\n",
      "자막 : ['영상콘텐츠 SM Life', '영상콘텐츠']\n",
      "뉴스 : ['미디어(방송/신문)', 'SNS(소셜네트워크서비스)', 'K-뉴딜지수(인터넷) NHN', '인터넷은행', '광고 YG', '인터넷 대표주']\n",
      "영상 : ['영상콘텐츠 SM Life', '영상콘텐츠 CJ', '영상콘텐츠', '영상콘텐츠 SM', '영상콘텐츠 JYP', '화폐/금융자동화기기(디지털화폐 등)', '카메라모듈/부품', '모바일콘텐츠(스마트폰/태블릿PC)']\n",
      "기술 : ['무선충전기술', '우주항공산업', '로봇(산업용/협동로봇 등)']\n",
      "소형 : ['철강 중소형', '건설 중소형']\n",
      "레이다 : []\n",
      "연구소 : []\n",
      "교육 : ['교육/온라인 교육']\n",
      "부분 : []\n",
      "교권 : []\n",
      "아동 : ['고령화 사회(노인복지)', '교육/온라인 교육']\n",
      "학생 : ['교육/온라인 교육']\n"
     ]
    }
   ],
   "source": [
    "import heapq\n",
    "\n",
    "keywords = [\"수사\", \"단장\", \"국방부\", \"검찰\", \"출석\", \"스페인\", \"마드리드\", \"근교\", \"자막\", \"뉴스\", \"영상\", \"기술\", \"소형\", \"레이다\", \"연구소\", \"교육\", \"부분\", \"교권\", \"아동\", \"학생\"]\n",
    "\n",
    "themes = [\"2차전지\", \"2차전지(LFP/리튬인산철)\", \"2차전지(생산)\", \"2차전지(소재/부품)\", \"2차전지(장비)\", \"2차전지(전고체)\", \"3D 낸드(NAND)\", \"3D 프린터\", \"4대강 복원\", \"4차산업 수혜주\", \"5G(5세대 이동통신)\", \"AI 챗봇(챗GPT 등)\", \"CCTV＆DVR\", \"DMZ 평화공원\", \"GTX(수도권 광역급행철도)\", \"GTX(수도권 광역급행철도) HL\", \"IT 대표주\", \"K-뉴딜지수\", \"K-뉴딜지수 NHN\", \"K-뉴딜지수(2차전지)\", \"K-뉴딜지수(게임)\", \"K-뉴딜지수(바이오)\", \"K-뉴딜지수(인터넷)\", \"K-뉴딜지수(인터넷) NHN\", \"LCD BLU제조\", \"LCD 부품/소재\", \"LCD장비\", \"LED\", \"LED 지앤비에스\", \"LED 비보존\", \"LED KH\", \"LED장비\", \"LNG(액화천연가스)\", \"LPG(액화석유가스)\", \"MLCC(적층세라믹콘덴서)\", \"mRNA(메신저 리보핵산)\", \"MVNO(가상이동통신망사업자)\", \"MVNO(가상이동통신망사업자) CJ\", \"NFT(대체불가토큰)\", \"NFT(대체불가토큰) 블레이드\", \"NI(네트워크통합)\", \"OLED(유기 발광 다이오드)\", \"PCB(FPCB 등)\", \"RFID(NFC 등)\", \"SI(시스템통합)\", \"SI(시스템통합) 신세계\", \"SNS(소셜네트워크서비스)\", \"SSD\", \"STO(증권형 토큰 발행)\", \"U-Healthcare(원격진료)\", \"UAM(도심항공모빌리티)\", \"가상현실(VR)\", \"가상화폐(비트코인 등)\", \"강관업체(Steel pipe)\", \"갤럭시 부품주\", \"건강기능식품\", \"건설 대표주\", \"건설 중소형\", \"건설 중소형 HL\", \"건설기계\", \"게임\", \"게임 KH\", \"겨울\", \"고령화 사회(노인복지)\", \"골판지 제조\", \"골프\", \"공기청정기\", \"공작기계\", \"광고\", \"광고 YG\", \"광고 SM\", \"교육/온라인 교육\", \"구제역/광우병 수혜\", \"구충제(펜벤다졸, 이버멕틴 등)\", \"국내 상장 중국기업\", \"그래핀\", \"기업인수목적회사(SPAC)\", \"남-북-러 가스관사업\", \"남북경협\", \"남북경협 KH\", \"네옴시티\", \"네옴시티 SM\", \"네옴시티 SM Life\", \"농업\", \"니켈\", \"도시가스\", \"두나무(Dunamu)\", \"드론(Drone)\", \"렌터카\", \"로봇(산업용/협동로봇 등)\", \"리모델링/인테리어\", \"리비안(RIVIAN)\", \"리츠(REITs)\", \"리튬\", \"마리화나(대마)\", \"마스크\", \"마이데이터\", \"마이크로 LED\", \"마이크로바이옴\", \"마이크로바이옴 CJ\", \"마켓컬리(kurly)\", \"맥신(MXene)\", \"메르스 코로나 바이러스\", \"메타버스(Metaverse)\", \"메타버스(Metaverse) CJ\", \"면세점\", \"면역항암제\", \"면역항암제 KH\", \"모더나(MODERNA)\", \"모듈러주택\", \"모바일게임(스마트폰)\", \"모바일게임(스마트폰) KH\", \"모바일게임(스마트폰) 에이프로젠\", \"모바일솔루션(스마트폰)\", \"모바일콘텐츠(스마트폰/태블릿PC)\", \"무선충전기술\", \"미디어(방송/신문)\", \"미디어(방송/신문) CJ\", \"미용기기\", \"바이오시밀러(복제 바이오의약품)\", \"바이오인식(생체인식)\", \"바이오인식(생체인식) KH\", \"반도체 대표주(생산)\", \"반도체 장비\", \"반도체 장비 지앤비에스\", \"반도체 재료/부품\", \"밥솥\", \"방위산업/전쟁 및 테러\", \"백신/진단시약/방역(신종플루, AI 등)\", \"백신여권\", \"백화점\", \"보안주(물리)\", \"보안주(정보)\", \"보톡스(보툴리눔톡신)\", \"북한 광물자원개발\", \"블록체인\", \"비료\", \"비만치료제\", \"비철금속\", \"사료\", \"사물인터넷\", \"삼성페이\", \"삼성페이 NHN\", \"생명보험\", \"석유화학\", \"선박평형수 처리장치\", \"셰일가스(Shale Gas)\", \"소매유통\", \"소매유통 CJ\", \"소모성자재구매대행(MRO)\", \"손해보험\", \"수산\", \"수소차(연료전지/부품/충전소 등)\", \"수소차(연료전지/부품/충전소 등) LS\", \"수자원(양적/질적 개선)\", \"수자원(양적/질적 개선) CSA\", \"슈퍼박테리아\", \"스마트그리드(지능형전력망)\", \"스마트그리드(지능형전력망) LS\", \"스마트카(SMART CAR)\", \"스마트팩토리(스마트공장)\", \"스마트팩토리(스마트공장) LS\", \"스마트폰\", \"스마트홈(홈네트워크)\", \"스포츠행사 수혜(올림픽, 월드컵 등)\", \"시멘트/레미콘\", \"시스템반도체\", \"아스콘(아스팔트 콘크리트)\", \"아이폰\", \"아프리카 돼지열병(ASF)\", \"애플페이\", \"애플페이 NHN\", \"야놀자(Yanolja)\", \"양자암호\", \"엔젤산업\", \"엔터테인먼트\", \"엔터테인먼트 JYP\", \"엔터테인먼트 CJ\", \"엔터테인먼트 SM\", \"엠폭스(원숭이두창)\", \"엠폭스(원숭이두창) 블레이드\", \"여름\", \"여행\", \"여행 SM\", \"영상콘텐츠\", \"영상콘텐츠 JYP\", \"영상콘텐츠 CJ\", \"영상콘텐츠 SM\", \"영상콘텐츠 SM Life\", \"영화\", \"영화 CJ\", \"영화 SM Life\", \"온실가스(탄소배출권)\", \"요소수\", \"우주항공산업\", \"우크라이나 재건\", \"우크라이나 재건 KH\", \"원자력발전\", \"원자력발전 LS\", \"원자력발전소 해체\", \"웹툰\", \"유전자 치료제/분석\", \"유전자 치료제/분석 CJ\", \"육계\", \"윤활유\", \"은행\", \"음성인식\", \"음식료업종\", \"음원/음반\", \"음원/음반 JYP\", \"음원/음반 YG\", \"음원/음반 CJ\", \"의료기기\", \"인터넷 대표주\", \"인터넷은행\", \"일자리(취업)\", \"자동차 대표주\", \"자동차부품\", \"자원개발\", \"자율주행차\", \"자율주행차 THE\", \"자전거\", \"재난/안전(지진 등)\", \"재난/안전(지진 등) KH\", \"재택근무/스마트워크\", \"전기자전거\", \"전기차\", \"전기차 LS\", \"전기차(충전소/충전기)\", \"전기차(충전소/충전기) 신세계\", \"전력설비\", \"전력설비 LS\", \"전력저장장치(ESS)\", \"전력저장장치(ESS) LS\", \"전선\", \"전자결제(전자화폐)\", \"전자결제(전자화폐) 신세계\", \"전자결제(전자화폐) NHN\", \"전자파\", \"정유\", \"제4이동통신\", \"제대혈\", \"제습기\", \"제약업체\", \"제약업체 КёКИСИ\", \"제지\", \"조림사업\", \"조선\", \"조선기자재\", \"종합 물류\", \"종합상사\", \"주류업(주정, 에탄올 등)\", \"줄기세포\", \"증강현실(AR)\", \"증권\", \"지능형로봇/인공지능(AI)\", \"지주사\", \"차량용블랙박스\", \"차량용블랙박스 THE\", \"창투사\", \"창투사 리더스\", \"철강 주요종목\", \"철강 중소형\", \"철도\", \"초전도체\", \"초전도체 LS\", \"출산장려정책\", \"치매\", \"치아 치료(임플란트 등)\", \"카메라모듈/부품\", \"카지노\", \"카카오뱅크(kakao BANK)\", \"캐릭터상품\", \"케이블TV SO/MSO\", \"케이블TV SO/MSO CJ\", \"코로나19(나파모스타트)\", \"코로나19(덱사메타손)\", \"코로나19(렘데시비르)\", \"코로나19(스푸트니크V)\", \"코로나19(음압병실/음압구급차)\", \"코로나19(진단/치료제/백신 개발 등)\", \"코로나19(진단키트)\", \"코로나19(진단키트) CJ\", \"코로나19(치료제/백신 개발 등)\", \"코로나19(카모스타트)\", \"코로나19(혈장치료/혈장치료제)\", \"코로나19(혈장치료/혈장치료제) 블레이드\", \"콜드체인(저온 유통)\", \"쿠팡(coupang)\", \"크래프톤 관련주\", \"클라우드 컴퓨팅\", \"키오스크(KIOSK)\", \"타이어\", \"탄소나노튜브(CNT)\", \"탈모 치료\", \"태블릿PC\", \"태양광에너지\", \"태양광에너지 지앤비에스\", \"태양광에너지 LS\", \"태풍 및 장마\", \"터치패널(스마트폰/태블릿PC 등)\", \"테마파크\", \"토스(toss)\", \"통신\", \"통신장비\", \"패션/의류\", \"페라이트\", \"페인트\", \"편의점\", \"폐기물처리\", \"폐기물처리 KG\", \"폐배터리\", \"폴더블폰\", \"풍력에너지\", \"플렉서블 디스플레이\", \"피팅(관이음쇠)/밸브\", \"핀테크(FinTech)\", \"핀테크(FinTech) NHN\", \"항공/저가 항공사(LCC)\", \"항공기부품\", \"해운\", \"해저터널(지하화/지하도로 등)\", \"핵융합에너지\", \"홈쇼핑\", \"홈쇼핑 CJ\", \"화이자(PFIZER)\", \"화장품\", \"화장품 YG\", \"화장품 CSA\", \"화폐/금융자동화기기(디지털화폐 등)\", \"화학섬유\", \"환율하락 수혜\", \"황사/미세먼지\", \"휴대폰부품\", \"희귀금속(희토류 등)\", \"日 수출 규제(국산화 등)\", \"日제품 불매운동(수혜)\"]\n",
    "\n",
    "keyword_dict = dict()\n",
    "for keyword in keywords :\n",
    "    for theme in themes :\n",
    "        if keyword_dict.get(keyword) == None :\n",
    "            keyword_dict[keyword] = []\n",
    "            \n",
    "        divided_themes = theme.replace(\")\",\"\").split(\"(\")\n",
    "        similarity = 0\n",
    "        for divided_theme in divided_themes :\n",
    "            similarity = max(similarity, ko_model.wv.similarity(keyword, divided_theme))\n",
    "        \n",
    "        heapq.heappush(keyword_dict[keyword], (-similarity, theme))\n",
    "\n",
    "for keyword in keywords :\n",
    "    now = keyword_dict[keyword]\n",
    "    temp = []\n",
    "    while now :\n",
    "        data = heapq.heappop(keyword_dict[keyword])\n",
    "        if(data[0] > -0.53) :\n",
    "            break\n",
    "        temp.append(data[1])\n",
    "    print(keyword, \":\", temp)"
   ]
  },
  {
   "cell_type": "code",
   "execution_count": 28,
   "metadata": {},
   "outputs": [
    {
     "name": "stdout",
     "output_type": "stream",
     "text": [
      "0.24023978\n",
      "0.3578774\n",
      "0.63457525\n",
      "0.61312824\n",
      "0.1826359\n"
     ]
    }
   ],
   "source": [
    "print(ko_model.wv.similarity(\"스페인\", \"마드리드\"))\n",
    "print(ko_model.wv.similarity(\"스페인\", \"마드리\"))\n",
    "print(ko_model.wv.similarity(\"스페인\", \"이탈리아\"))\n",
    "print(ko_model.wv.similarity(\"스페인\", \"이탈리\"))\n",
    "print(ko_model.wv.similarity(\"스페인\", \"꼬냥이\"))\n"
   ]
  }
 ],
 "metadata": {
  "kernelspec": {
   "display_name": "Python 3",
   "language": "python",
   "name": "python3"
  },
  "language_info": {
   "codemirror_mode": {
    "name": "ipython",
    "version": 3
   },
   "file_extension": ".py",
   "mimetype": "text/x-python",
   "name": "python",
   "nbconvert_exporter": "python",
   "pygments_lexer": "ipython3",
   "version": "3.11.5"
  },
  "orig_nbformat": 4
 },
 "nbformat": 4,
 "nbformat_minor": 2
}
